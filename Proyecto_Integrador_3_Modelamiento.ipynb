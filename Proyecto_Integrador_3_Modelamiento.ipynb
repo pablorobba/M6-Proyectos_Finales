{
  "cells": [
    {
      "cell_type": "markdown",
      "metadata": {
        "id": "4WaoEOp0KkSp"
      },
      "source": [
        "![HenryLogo](https://d31uz8lwfmyn8g.cloudfront.net/Assets/logo-henry-white-lg.png)\n",
        "\n",
        "# **Proyecto integrador**\n",
        "\n",
        "### 3. Modelamiento\n",
        "\n",
        "Una vez preparados los datos, se procederá con el modelamiento. Recuerden que el objetivo es clasificar a un paciente como hospitalizado o no hospitalizado, teniendo en cuenta un data set que contiene información referente a antecedentes del paciente, morbilidad asociada al paciente y antecedentes relacionados con la toma de la biopsia y complicaciones infecciosas.\n",
        "\n",
        "\n"
      ]
    },
    {
      "cell_type": "markdown",
      "metadata": {
        "id": "E22GkymtLevx"
      },
      "source": [
        "Carguen la base de datos preparada desde la fase 2."
      ]
    },
    {
      "cell_type": "code",
      "execution_count": 63,
      "metadata": {
        "id": "dlRCMYtGLqDJ"
      },
      "outputs": [],
      "source": [
        "import pandas as pd \n",
        "import numpy as np \n",
        "import matplotlib.pyplot as plt\n",
        "import seaborn as sns\n",
        "\n",
        "from sklearn.linear_model import LogisticRegression\n",
        "from sklearn.tree import DecisionTreeClassifier\n",
        "from sklearn.ensemble import RandomForestClassifier\n",
        "from sklearn.metrics import accuracy_score, f1_score, precision_score, recall_score\n",
        "from sklearn.metrics import confusion_matrix, roc_auc_score, roc_curve, classification_report, precision_recall_curve\n",
        "from sklearn.model_selection import train_test_split, cross_val_score, StratifiedKFold, GridSearchCV, RandomizedSearchCV\n",
        "from sklearn.feature_selection import SelectKBest, mutual_info_classif\n",
        "\n",
        "from collections import Counter"
      ]
    },
    {
      "cell_type": "code",
      "execution_count": 64,
      "metadata": {},
      "outputs": [],
      "source": [
        "data = pd.read_csv('Hospitalizacion.csv')"
      ]
    },
    {
      "cell_type": "code",
      "execution_count": 65,
      "metadata": {},
      "outputs": [],
      "source": [
        "del(data['Unnamed: 0'])"
      ]
    },
    {
      "cell_type": "code",
      "execution_count": 73,
      "metadata": {},
      "outputs": [
        {
          "data": {
            "text/html": [
              "<div>\n",
              "<style scoped>\n",
              "    .dataframe tbody tr th:only-of-type {\n",
              "        vertical-align: middle;\n",
              "    }\n",
              "\n",
              "    .dataframe tbody tr th {\n",
              "        vertical-align: top;\n",
              "    }\n",
              "\n",
              "    .dataframe thead th {\n",
              "        text-align: right;\n",
              "    }\n",
              "</style>\n",
              "<table border=\"1\" class=\"dataframe\">\n",
              "  <thead>\n",
              "    <tr style=\"text-align: right;\">\n",
              "      <th></th>\n",
              "      <th>EDAD</th>\n",
              "      <th>DIABETES</th>\n",
              "      <th>PSA</th>\n",
              "      <th>VOLUMEN PROSTATICO</th>\n",
              "      <th>NUMERO DE MUESTRAS TOMADAS</th>\n",
              "      <th>NUMERO DE DIAS POST BIOPSIA EN QUE SE PRESENTA LA COMPLICACIÓN INFECCIOSA</th>\n",
              "      <th>FIEBRE</th>\n",
              "      <th>ITU</th>\n",
              "      <th>TIPO DE CULTIVO_HEMOCULTIVO</th>\n",
              "      <th>TIPO DE CULTIVO_HEMOCULTIVO Y UROCULTIVO</th>\n",
              "      <th>TIPO DE CULTIVO_NO</th>\n",
              "      <th>TIPO DE CULTIVO_UROCULTIVO</th>\n",
              "      <th>AGENTE AISLADO_NO</th>\n",
              "      <th>AGENTE AISLADO_PSEUDOMONAS AERUGINOSA</th>\n",
              "      <th>PATRON DE RESISTENCIA_ AMPI R, CIPRO R, GENTA R, SULFA M R</th>\n",
              "      <th>PATRON DE RESISTENCIA_MULTI SENSIBLE</th>\n",
              "      <th>PATRON DE RESISTENCIA_NO</th>\n",
              "      <th>PATRON DE RESISTENCIA_RESISTENTE A AMPI, CIPRO Y GENTA</th>\n",
              "      <th>PATRON DE RESISTENCIA_RESISTENTE A AMPI, SULFA, CEFADROXILO, CEFUROXIMO, CIPRO Y CEFEPIME, CEFOTAXIMA</th>\n",
              "      <th>HOSPITALIZACION</th>\n",
              "    </tr>\n",
              "  </thead>\n",
              "  <tbody>\n",
              "    <tr>\n",
              "      <th>0</th>\n",
              "      <td>53</td>\n",
              "      <td>0</td>\n",
              "      <td>4.0</td>\n",
              "      <td>1</td>\n",
              "      <td>12</td>\n",
              "      <td>1</td>\n",
              "      <td>1</td>\n",
              "      <td>0</td>\n",
              "      <td>0</td>\n",
              "      <td>0</td>\n",
              "      <td>1</td>\n",
              "      <td>0</td>\n",
              "      <td>1</td>\n",
              "      <td>0</td>\n",
              "      <td>0</td>\n",
              "      <td>0</td>\n",
              "      <td>1</td>\n",
              "      <td>0</td>\n",
              "      <td>0</td>\n",
              "      <td>1</td>\n",
              "    </tr>\n",
              "    <tr>\n",
              "      <th>1</th>\n",
              "      <td>56</td>\n",
              "      <td>0</td>\n",
              "      <td>7.7</td>\n",
              "      <td>1</td>\n",
              "      <td>12</td>\n",
              "      <td>1</td>\n",
              "      <td>1</td>\n",
              "      <td>0</td>\n",
              "      <td>0</td>\n",
              "      <td>0</td>\n",
              "      <td>1</td>\n",
              "      <td>0</td>\n",
              "      <td>1</td>\n",
              "      <td>0</td>\n",
              "      <td>0</td>\n",
              "      <td>0</td>\n",
              "      <td>1</td>\n",
              "      <td>0</td>\n",
              "      <td>0</td>\n",
              "      <td>1</td>\n",
              "    </tr>\n",
              "    <tr>\n",
              "      <th>2</th>\n",
              "      <td>57</td>\n",
              "      <td>0</td>\n",
              "      <td>29.0</td>\n",
              "      <td>1</td>\n",
              "      <td>24</td>\n",
              "      <td>1</td>\n",
              "      <td>1</td>\n",
              "      <td>0</td>\n",
              "      <td>1</td>\n",
              "      <td>0</td>\n",
              "      <td>0</td>\n",
              "      <td>0</td>\n",
              "      <td>0</td>\n",
              "      <td>0</td>\n",
              "      <td>1</td>\n",
              "      <td>0</td>\n",
              "      <td>0</td>\n",
              "      <td>0</td>\n",
              "      <td>0</td>\n",
              "      <td>1</td>\n",
              "    </tr>\n",
              "    <tr>\n",
              "      <th>3</th>\n",
              "      <td>56</td>\n",
              "      <td>0</td>\n",
              "      <td>7.0</td>\n",
              "      <td>1</td>\n",
              "      <td>12</td>\n",
              "      <td>1</td>\n",
              "      <td>1</td>\n",
              "      <td>0</td>\n",
              "      <td>0</td>\n",
              "      <td>0</td>\n",
              "      <td>1</td>\n",
              "      <td>0</td>\n",
              "      <td>1</td>\n",
              "      <td>0</td>\n",
              "      <td>0</td>\n",
              "      <td>0</td>\n",
              "      <td>1</td>\n",
              "      <td>0</td>\n",
              "      <td>0</td>\n",
              "      <td>1</td>\n",
              "    </tr>\n",
              "    <tr>\n",
              "      <th>4</th>\n",
              "      <td>55</td>\n",
              "      <td>0</td>\n",
              "      <td>29.0</td>\n",
              "      <td>1</td>\n",
              "      <td>24</td>\n",
              "      <td>1</td>\n",
              "      <td>1</td>\n",
              "      <td>0</td>\n",
              "      <td>1</td>\n",
              "      <td>0</td>\n",
              "      <td>0</td>\n",
              "      <td>0</td>\n",
              "      <td>0</td>\n",
              "      <td>0</td>\n",
              "      <td>0</td>\n",
              "      <td>0</td>\n",
              "      <td>1</td>\n",
              "      <td>0</td>\n",
              "      <td>0</td>\n",
              "      <td>1</td>\n",
              "    </tr>\n",
              "    <tr>\n",
              "      <th>...</th>\n",
              "      <td>...</td>\n",
              "      <td>...</td>\n",
              "      <td>...</td>\n",
              "      <td>...</td>\n",
              "      <td>...</td>\n",
              "      <td>...</td>\n",
              "      <td>...</td>\n",
              "      <td>...</td>\n",
              "      <td>...</td>\n",
              "      <td>...</td>\n",
              "      <td>...</td>\n",
              "      <td>...</td>\n",
              "      <td>...</td>\n",
              "      <td>...</td>\n",
              "      <td>...</td>\n",
              "      <td>...</td>\n",
              "      <td>...</td>\n",
              "      <td>...</td>\n",
              "      <td>...</td>\n",
              "      <td>...</td>\n",
              "    </tr>\n",
              "    <tr>\n",
              "      <th>553</th>\n",
              "      <td>57</td>\n",
              "      <td>0</td>\n",
              "      <td>4.8</td>\n",
              "      <td>0</td>\n",
              "      <td>12</td>\n",
              "      <td>0</td>\n",
              "      <td>0</td>\n",
              "      <td>0</td>\n",
              "      <td>0</td>\n",
              "      <td>0</td>\n",
              "      <td>1</td>\n",
              "      <td>0</td>\n",
              "      <td>1</td>\n",
              "      <td>0</td>\n",
              "      <td>0</td>\n",
              "      <td>0</td>\n",
              "      <td>1</td>\n",
              "      <td>0</td>\n",
              "      <td>0</td>\n",
              "      <td>0</td>\n",
              "    </tr>\n",
              "    <tr>\n",
              "      <th>554</th>\n",
              "      <td>75</td>\n",
              "      <td>0</td>\n",
              "      <td>75.0</td>\n",
              "      <td>1</td>\n",
              "      <td>12</td>\n",
              "      <td>0</td>\n",
              "      <td>0</td>\n",
              "      <td>0</td>\n",
              "      <td>0</td>\n",
              "      <td>0</td>\n",
              "      <td>1</td>\n",
              "      <td>0</td>\n",
              "      <td>1</td>\n",
              "      <td>0</td>\n",
              "      <td>0</td>\n",
              "      <td>0</td>\n",
              "      <td>1</td>\n",
              "      <td>0</td>\n",
              "      <td>0</td>\n",
              "      <td>0</td>\n",
              "    </tr>\n",
              "    <tr>\n",
              "      <th>555</th>\n",
              "      <td>78</td>\n",
              "      <td>0</td>\n",
              "      <td>9.3</td>\n",
              "      <td>1</td>\n",
              "      <td>12</td>\n",
              "      <td>0</td>\n",
              "      <td>0</td>\n",
              "      <td>0</td>\n",
              "      <td>0</td>\n",
              "      <td>0</td>\n",
              "      <td>1</td>\n",
              "      <td>0</td>\n",
              "      <td>1</td>\n",
              "      <td>0</td>\n",
              "      <td>0</td>\n",
              "      <td>0</td>\n",
              "      <td>1</td>\n",
              "      <td>0</td>\n",
              "      <td>0</td>\n",
              "      <td>0</td>\n",
              "    </tr>\n",
              "    <tr>\n",
              "      <th>556</th>\n",
              "      <td>67</td>\n",
              "      <td>0</td>\n",
              "      <td>6.0</td>\n",
              "      <td>1</td>\n",
              "      <td>12</td>\n",
              "      <td>0</td>\n",
              "      <td>0</td>\n",
              "      <td>0</td>\n",
              "      <td>0</td>\n",
              "      <td>0</td>\n",
              "      <td>1</td>\n",
              "      <td>0</td>\n",
              "      <td>1</td>\n",
              "      <td>0</td>\n",
              "      <td>0</td>\n",
              "      <td>0</td>\n",
              "      <td>1</td>\n",
              "      <td>0</td>\n",
              "      <td>0</td>\n",
              "      <td>0</td>\n",
              "    </tr>\n",
              "    <tr>\n",
              "      <th>557</th>\n",
              "      <td>64</td>\n",
              "      <td>0</td>\n",
              "      <td>4.8</td>\n",
              "      <td>1</td>\n",
              "      <td>12</td>\n",
              "      <td>0</td>\n",
              "      <td>0</td>\n",
              "      <td>0</td>\n",
              "      <td>0</td>\n",
              "      <td>0</td>\n",
              "      <td>1</td>\n",
              "      <td>0</td>\n",
              "      <td>1</td>\n",
              "      <td>0</td>\n",
              "      <td>0</td>\n",
              "      <td>0</td>\n",
              "      <td>1</td>\n",
              "      <td>0</td>\n",
              "      <td>0</td>\n",
              "      <td>0</td>\n",
              "    </tr>\n",
              "  </tbody>\n",
              "</table>\n",
              "<p>558 rows × 20 columns</p>\n",
              "</div>"
            ],
            "text/plain": [
              "     EDAD  DIABETES   PSA  VOLUMEN PROSTATICO  NUMERO DE MUESTRAS TOMADAS  \\\n",
              "0      53         0   4.0                   1                          12   \n",
              "1      56         0   7.7                   1                          12   \n",
              "2      57         0  29.0                   1                          24   \n",
              "3      56         0   7.0                   1                          12   \n",
              "4      55         0  29.0                   1                          24   \n",
              "..    ...       ...   ...                 ...                         ...   \n",
              "553    57         0   4.8                   0                          12   \n",
              "554    75         0  75.0                   1                          12   \n",
              "555    78         0   9.3                   1                          12   \n",
              "556    67         0   6.0                   1                          12   \n",
              "557    64         0   4.8                   1                          12   \n",
              "\n",
              "     NUMERO DE DIAS POST BIOPSIA EN QUE SE PRESENTA LA COMPLICACIÓN INFECCIOSA  \\\n",
              "0                                                    1                           \n",
              "1                                                    1                           \n",
              "2                                                    1                           \n",
              "3                                                    1                           \n",
              "4                                                    1                           \n",
              "..                                                 ...                           \n",
              "553                                                  0                           \n",
              "554                                                  0                           \n",
              "555                                                  0                           \n",
              "556                                                  0                           \n",
              "557                                                  0                           \n",
              "\n",
              "     FIEBRE  ITU  TIPO DE CULTIVO_HEMOCULTIVO  \\\n",
              "0         1    0                            0   \n",
              "1         1    0                            0   \n",
              "2         1    0                            1   \n",
              "3         1    0                            0   \n",
              "4         1    0                            1   \n",
              "..      ...  ...                          ...   \n",
              "553       0    0                            0   \n",
              "554       0    0                            0   \n",
              "555       0    0                            0   \n",
              "556       0    0                            0   \n",
              "557       0    0                            0   \n",
              "\n",
              "     TIPO DE CULTIVO_HEMOCULTIVO Y UROCULTIVO  TIPO DE CULTIVO_NO  \\\n",
              "0                                           0                   1   \n",
              "1                                           0                   1   \n",
              "2                                           0                   0   \n",
              "3                                           0                   1   \n",
              "4                                           0                   0   \n",
              "..                                        ...                 ...   \n",
              "553                                         0                   1   \n",
              "554                                         0                   1   \n",
              "555                                         0                   1   \n",
              "556                                         0                   1   \n",
              "557                                         0                   1   \n",
              "\n",
              "     TIPO DE CULTIVO_UROCULTIVO  AGENTE AISLADO_NO  \\\n",
              "0                             0                  1   \n",
              "1                             0                  1   \n",
              "2                             0                  0   \n",
              "3                             0                  1   \n",
              "4                             0                  0   \n",
              "..                          ...                ...   \n",
              "553                           0                  1   \n",
              "554                           0                  1   \n",
              "555                           0                  1   \n",
              "556                           0                  1   \n",
              "557                           0                  1   \n",
              "\n",
              "     AGENTE AISLADO_PSEUDOMONAS AERUGINOSA  \\\n",
              "0                                        0   \n",
              "1                                        0   \n",
              "2                                        0   \n",
              "3                                        0   \n",
              "4                                        0   \n",
              "..                                     ...   \n",
              "553                                      0   \n",
              "554                                      0   \n",
              "555                                      0   \n",
              "556                                      0   \n",
              "557                                      0   \n",
              "\n",
              "     PATRON DE RESISTENCIA_ AMPI R, CIPRO R, GENTA R, SULFA M R  \\\n",
              "0                                                    0            \n",
              "1                                                    0            \n",
              "2                                                    1            \n",
              "3                                                    0            \n",
              "4                                                    0            \n",
              "..                                                 ...            \n",
              "553                                                  0            \n",
              "554                                                  0            \n",
              "555                                                  0            \n",
              "556                                                  0            \n",
              "557                                                  0            \n",
              "\n",
              "     PATRON DE RESISTENCIA_MULTI SENSIBLE  PATRON DE RESISTENCIA_NO  \\\n",
              "0                                       0                         1   \n",
              "1                                       0                         1   \n",
              "2                                       0                         0   \n",
              "3                                       0                         1   \n",
              "4                                       0                         1   \n",
              "..                                    ...                       ...   \n",
              "553                                     0                         1   \n",
              "554                                     0                         1   \n",
              "555                                     0                         1   \n",
              "556                                     0                         1   \n",
              "557                                     0                         1   \n",
              "\n",
              "     PATRON DE RESISTENCIA_RESISTENTE A AMPI, CIPRO Y GENTA  \\\n",
              "0                                                    0        \n",
              "1                                                    0        \n",
              "2                                                    0        \n",
              "3                                                    0        \n",
              "4                                                    0        \n",
              "..                                                 ...        \n",
              "553                                                  0        \n",
              "554                                                  0        \n",
              "555                                                  0        \n",
              "556                                                  0        \n",
              "557                                                  0        \n",
              "\n",
              "     PATRON DE RESISTENCIA_RESISTENTE A AMPI, SULFA, CEFADROXILO, CEFUROXIMO, CIPRO Y CEFEPIME, CEFOTAXIMA  \\\n",
              "0                                                    0                                                       \n",
              "1                                                    0                                                       \n",
              "2                                                    0                                                       \n",
              "3                                                    0                                                       \n",
              "4                                                    0                                                       \n",
              "..                                                 ...                                                       \n",
              "553                                                  0                                                       \n",
              "554                                                  0                                                       \n",
              "555                                                  0                                                       \n",
              "556                                                  0                                                       \n",
              "557                                                  0                                                       \n",
              "\n",
              "     HOSPITALIZACION  \n",
              "0                  1  \n",
              "1                  1  \n",
              "2                  1  \n",
              "3                  1  \n",
              "4                  1  \n",
              "..               ...  \n",
              "553                0  \n",
              "554                0  \n",
              "555                0  \n",
              "556                0  \n",
              "557                0  \n",
              "\n",
              "[558 rows x 20 columns]"
            ]
          },
          "execution_count": 73,
          "metadata": {},
          "output_type": "execute_result"
        }
      ],
      "source": [
        "data"
      ]
    },
    {
      "cell_type": "code",
      "execution_count": 56,
      "metadata": {},
      "outputs": [],
      "source": [
        "#data = data.drop(\"NUMERO DE DIAS POST BIOPSIA EN QUE SE PRESENTA LA COMPLICACIÓN INFECCIOSA\",axis = 1)"
      ]
    },
    {
      "cell_type": "markdown",
      "metadata": {
        "id": "X33Od3Y_Lrye"
      },
      "source": [
        "Separen el dataset en X, y (variable objetivo)"
      ]
    },
    {
      "cell_type": "code",
      "execution_count": 66,
      "metadata": {},
      "outputs": [],
      "source": [
        "X = data.iloc[:, :-1].values # Variables independientes\n",
        "y = data.iloc[:, -1].values # Variable dependiente (la que queremos predecir)"
      ]
    },
    {
      "cell_type": "markdown",
      "metadata": {
        "id": "mTV2RdmbMoRE"
      },
      "source": [
        "Separen el dataset en X_train, X_test, y_train y y_test"
      ]
    },
    {
      "cell_type": "code",
      "execution_count": 67,
      "metadata": {
        "id": "ILzt6oOaM1ag"
      },
      "outputs": [],
      "source": [
        "from sklearn.model_selection import train_test_split # Importamos la librería para dividir el dataset\n",
        "X_train, X_test, y_train, y_test = train_test_split(X, y, train_size = 0.8, random_state = 10)"
      ]
    },
    {
      "cell_type": "code",
      "execution_count": 68,
      "metadata": {},
      "outputs": [],
      "source": [
        "from sklearn.preprocessing import StandardScaler # Importamos la librería para escalar las variables independientes\n",
        "sc = StandardScaler() # Creamos el objeto para escalar las variables\n",
        "X_train = sc.fit_transform(X_train) # Escalamos las variables de entrenamiento\n",
        "X_test = sc.transform(X_test) # Escalamos las variables de test"
      ]
    },
    {
      "cell_type": "code",
      "execution_count": 69,
      "metadata": {},
      "outputs": [
        {
          "name": "stdout",
          "output_type": "stream",
          "text": [
            "Antes Counter({0: 426, 1: 20})\n",
            "Despues Counter({0: 426, 1: 426})\n"
          ]
        }
      ],
      "source": [
        "from imblearn.over_sampling import SMOTE\n",
        "\n",
        "counter = Counter(y_train)\n",
        "print('Antes',counter)\n",
        "# oversampling the train dataset using SMOTE\n",
        "smt = SMOTE()\n",
        "#X_train, y_train = smt.fit_resample(X_train, y_train)\n",
        "X_train_sm, y_train_sm = smt.fit_resample(X_train, y_train)\n",
        "\n",
        "counter = Counter(y_train_sm)\n",
        "print('Despues',counter)"
      ]
    },
    {
      "cell_type": "markdown",
      "metadata": {
        "id": "zyQIaY1bM12g"
      },
      "source": [
        "Instancien, entrenen y predigan sobre un árbol de decisión asignando una profundidad máxima arbitraria"
      ]
    },
    {
      "cell_type": "code",
      "execution_count": 70,
      "metadata": {
        "id": "HO3Db1YQM9JS"
      },
      "outputs": [
        {
          "data": {
            "text/html": [
              "<style>#sk-container-id-7 {color: black;}#sk-container-id-7 pre{padding: 0;}#sk-container-id-7 div.sk-toggleable {background-color: white;}#sk-container-id-7 label.sk-toggleable__label {cursor: pointer;display: block;width: 100%;margin-bottom: 0;padding: 0.3em;box-sizing: border-box;text-align: center;}#sk-container-id-7 label.sk-toggleable__label-arrow:before {content: \"▸\";float: left;margin-right: 0.25em;color: #696969;}#sk-container-id-7 label.sk-toggleable__label-arrow:hover:before {color: black;}#sk-container-id-7 div.sk-estimator:hover label.sk-toggleable__label-arrow:before {color: black;}#sk-container-id-7 div.sk-toggleable__content {max-height: 0;max-width: 0;overflow: hidden;text-align: left;background-color: #f0f8ff;}#sk-container-id-7 div.sk-toggleable__content pre {margin: 0.2em;color: black;border-radius: 0.25em;background-color: #f0f8ff;}#sk-container-id-7 input.sk-toggleable__control:checked~div.sk-toggleable__content {max-height: 200px;max-width: 100%;overflow: auto;}#sk-container-id-7 input.sk-toggleable__control:checked~label.sk-toggleable__label-arrow:before {content: \"▾\";}#sk-container-id-7 div.sk-estimator input.sk-toggleable__control:checked~label.sk-toggleable__label {background-color: #d4ebff;}#sk-container-id-7 div.sk-label input.sk-toggleable__control:checked~label.sk-toggleable__label {background-color: #d4ebff;}#sk-container-id-7 input.sk-hidden--visually {border: 0;clip: rect(1px 1px 1px 1px);clip: rect(1px, 1px, 1px, 1px);height: 1px;margin: -1px;overflow: hidden;padding: 0;position: absolute;width: 1px;}#sk-container-id-7 div.sk-estimator {font-family: monospace;background-color: #f0f8ff;border: 1px dotted black;border-radius: 0.25em;box-sizing: border-box;margin-bottom: 0.5em;}#sk-container-id-7 div.sk-estimator:hover {background-color: #d4ebff;}#sk-container-id-7 div.sk-parallel-item::after {content: \"\";width: 100%;border-bottom: 1px solid gray;flex-grow: 1;}#sk-container-id-7 div.sk-label:hover label.sk-toggleable__label {background-color: #d4ebff;}#sk-container-id-7 div.sk-serial::before {content: \"\";position: absolute;border-left: 1px solid gray;box-sizing: border-box;top: 0;bottom: 0;left: 50%;z-index: 0;}#sk-container-id-7 div.sk-serial {display: flex;flex-direction: column;align-items: center;background-color: white;padding-right: 0.2em;padding-left: 0.2em;position: relative;}#sk-container-id-7 div.sk-item {position: relative;z-index: 1;}#sk-container-id-7 div.sk-parallel {display: flex;align-items: stretch;justify-content: center;background-color: white;position: relative;}#sk-container-id-7 div.sk-item::before, #sk-container-id-7 div.sk-parallel-item::before {content: \"\";position: absolute;border-left: 1px solid gray;box-sizing: border-box;top: 0;bottom: 0;left: 50%;z-index: -1;}#sk-container-id-7 div.sk-parallel-item {display: flex;flex-direction: column;z-index: 1;position: relative;background-color: white;}#sk-container-id-7 div.sk-parallel-item:first-child::after {align-self: flex-end;width: 50%;}#sk-container-id-7 div.sk-parallel-item:last-child::after {align-self: flex-start;width: 50%;}#sk-container-id-7 div.sk-parallel-item:only-child::after {width: 0;}#sk-container-id-7 div.sk-dashed-wrapped {border: 1px dashed gray;margin: 0 0.4em 0.5em 0.4em;box-sizing: border-box;padding-bottom: 0.4em;background-color: white;}#sk-container-id-7 div.sk-label label {font-family: monospace;font-weight: bold;display: inline-block;line-height: 1.2em;}#sk-container-id-7 div.sk-label-container {text-align: center;}#sk-container-id-7 div.sk-container {/* jupyter's `normalize.less` sets `[hidden] { display: none; }` but bootstrap.min.css set `[hidden] { display: none !important; }` so we also need the `!important` here to be able to override the default hidden behavior on the sphinx rendered scikit-learn.org. See: https://github.com/scikit-learn/scikit-learn/issues/21755 */display: inline-block !important;position: relative;}#sk-container-id-7 div.sk-text-repr-fallback {display: none;}</style><div id=\"sk-container-id-7\" class=\"sk-top-container\"><div class=\"sk-text-repr-fallback\"><pre>DecisionTreeClassifier(criterion=&#x27;entropy&#x27;, max_depth=6, random_state=10)</pre><b>In a Jupyter environment, please rerun this cell to show the HTML representation or trust the notebook. <br />On GitHub, the HTML representation is unable to render, please try loading this page with nbviewer.org.</b></div><div class=\"sk-container\" hidden><div class=\"sk-item\"><div class=\"sk-estimator sk-toggleable\"><input class=\"sk-toggleable__control sk-hidden--visually\" id=\"sk-estimator-id-7\" type=\"checkbox\" checked><label for=\"sk-estimator-id-7\" class=\"sk-toggleable__label sk-toggleable__label-arrow\">DecisionTreeClassifier</label><div class=\"sk-toggleable__content\"><pre>DecisionTreeClassifier(criterion=&#x27;entropy&#x27;, max_depth=6, random_state=10)</pre></div></div></div></div></div>"
            ],
            "text/plain": [
              "DecisionTreeClassifier(criterion='entropy', max_depth=6, random_state=10)"
            ]
          },
          "execution_count": 70,
          "metadata": {},
          "output_type": "execute_result"
        }
      ],
      "source": [
        "from sklearn.tree import DecisionTreeClassifier \n",
        "classifier = DecisionTreeClassifier(criterion = 'entropy', random_state = 10, max_depth=6) \n",
        "classifier.fit(X_train_sm, y_train_sm)"
      ]
    },
    {
      "cell_type": "code",
      "execution_count": 81,
      "metadata": {},
      "outputs": [
        {
          "data": {
            "image/png": "[encoded data removed]",
            "text/plain": [
              "<Figure size 1200x700 with 1 Axes>"
            ]
          },
          "metadata": {},
          "output_type": "display_data"
        }
      ],
      "source": [
        "from sklearn.ensemble import RandomForestClassifier\n",
        "import matplotlib.pyplot as plt\n",
        "\n",
        "#Entrena tu modelo\n",
        "model = RandomForestClassifier()\n",
        "model.fit(X_train, y_train)\n",
        "\n",
        "#Obtiene la importancia de cada variable\n",
        "importances = model.feature_importances_\n",
        "\n",
        "#Grafica la importancia de cada variable\n",
        "plt.figure(figsize=(12,7))\n",
        "plt.bar(range(len(importances)), importances)\n",
        "plt.show()"
      ]
    },
    {
      "cell_type": "markdown",
      "metadata": {
        "id": "HAZhxOMyNFON"
      },
      "source": [
        "Realicen la matriz de confusión para este modelo. Se recomienda utilizar mapa de calor para la visualización. "
      ]
    },
    {
      "cell_type": "code",
      "execution_count": 62,
      "metadata": {
        "id": "_GpXEa1oNQfG"
      },
      "outputs": [
        {
          "data": {
            "image/png": "[encoded data removed]",
            "text/plain": [
              "<Figure size 1200x700 with 1 Axes>"
            ]
          },
          "metadata": {},
          "output_type": "display_data"
        }
      ],
      "source": [
        "train_prec =  []\n",
        "eval_prec = []\n",
        "max_deep_list = list(range(1, 9))\n",
        "\n",
        "for deep in max_deep_list:\n",
        "    clf_3 = DecisionTreeClassifier(max_depth=deep, criterion='entropy')\n",
        "    clf_3.fit(X_train_sm, y_train_sm)\n",
        "    train_prec.append(clf_3.score(X_train_sm, y_train_sm))\n",
        "    eval_prec.append(clf_3.score(X_test, y_test))\n",
        "\n",
        "plt.figure(figsize=(12,7))\n",
        "plt.plot(max_deep_list, train_prec, color='r', label='Set de entrenamiento')\n",
        "plt.plot(max_deep_list, eval_prec, color='b', label='Set de testeo')\n",
        "plt.title('Gráfico de ajuste del árbol de decision', fontsize = 15)\n",
        "plt.legend()\n",
        "plt.ylabel('Exactitud')\n",
        "plt.xlabel('Profundidad')\n",
        "plt.show()"
      ]
    },
    {
      "cell_type": "markdown",
      "metadata": {
        "id": "CmRUpq9FMcsi"
      },
      "source": [
        "Seleccione tres métricas de evaluación para este modelo de clasificación y describa el significado de cada una de ellas para el modelo creado."
      ]
    },
    {
      "cell_type": "code",
      "execution_count": null,
      "metadata": {
        "id": "xSSe-ZHpMmdz"
      },
      "outputs": [],
      "source": []
    },
    {
      "cell_type": "markdown",
      "metadata": {
        "id": "b_u-bC8FNTkT"
      },
      "source": [
        "Realice un diagrama de la importancia de cada variable respecto a la clasificación de la variable objetivo"
      ]
    },
    {
      "cell_type": "code",
      "execution_count": null,
      "metadata": {
        "id": "I9w7a6dXNYPz"
      },
      "outputs": [],
      "source": []
    },
    {
      "cell_type": "markdown",
      "metadata": {
        "id": "E3k9TEhuSU9i"
      },
      "source": [
        "Encuentre cuál sería un valor óptimo para el hiperparámetro **max_depth** para el árbol de decisión. Construya un modelo con este valor y compare las métricas de evaluación respecto al modelo creado con una profundidad arbitraria. "
      ]
    },
    {
      "cell_type": "code",
      "execution_count": null,
      "metadata": {
        "id": "CUdKvPY0S1SC"
      },
      "outputs": [],
      "source": []
    },
    {
      "cell_type": "markdown",
      "metadata": {
        "id": "EiqnqbBuNmmW"
      },
      "source": [
        "Instancien, entrenen y predigan sobre un modelo de k-vecinos asignando una cantidad de vecinos k-aribitraria. "
      ]
    },
    {
      "cell_type": "code",
      "execution_count": null,
      "metadata": {
        "id": "m_n9Yfg0NmTP"
      },
      "outputs": [],
      "source": []
    },
    {
      "cell_type": "markdown",
      "metadata": {
        "id": "kiZg1tfCS38i"
      },
      "source": [
        "Encuentre el valor óptimo para k"
      ]
    },
    {
      "cell_type": "code",
      "execution_count": null,
      "metadata": {
        "id": "DVaNp3K9S7Os"
      },
      "outputs": [],
      "source": []
    },
    {
      "cell_type": "markdown",
      "metadata": {
        "id": "_xXX6APsNjkV"
      },
      "source": [
        "Halle las mismas tres métricas de evaluación para este modelo de clasificación y compare los valores para el performance, respecto al árbol de decisión cuyo hiperparámetro **max_depth** se optimizó. ¿Qué puede concluir? "
      ]
    },
    {
      "cell_type": "code",
      "execution_count": null,
      "metadata": {
        "id": "paHDdRnYN_Gl"
      },
      "outputs": [],
      "source": []
    },
    {
      "cell_type": "markdown",
      "metadata": {
        "id": "JeGx2V0lTF9i"
      },
      "source": [
        "De acuerdo con lo aprendido en el módulo, ¿Cómo cree que se puede mejorar el performance de este modelo? "
      ]
    },
    {
      "cell_type": "markdown",
      "metadata": {
        "id": "lPfoiS6ZTN-4"
      },
      "source": [
        "R/"
      ]
    }
  ],
  "metadata": {
    "colab": {
      "provenance": []
    },
    "kernelspec": {
      "display_name": "Python 3",
      "language": "python",
      "name": "python3"
    },
    "language_info": {
      "codemirror_mode": {
        "name": "ipython",
        "version": 3
      },
      "file_extension": ".py",
      "mimetype": "text/x-python",
      "name": "python",
      "nbconvert_exporter": "python",
      "pygments_lexer": "ipython3",
      "version": "3.11.0"
    },
    "orig_nbformat": 4,
    "vscode": {
      "interpreter": {
        "hash": "ae0e7af47f894f9476ada5eb18ddb08363018cc3b7dc70bce08ae16d38df8604"
      }
    }
  },
  "nbformat": 4,
  "nbformat_minor": 0
}
